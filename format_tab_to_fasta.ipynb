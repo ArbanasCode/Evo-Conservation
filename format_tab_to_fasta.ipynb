{
 "cells": [
  {
   "cell_type": "code",
   "execution_count": 2,
   "id": "7b4e7f1e",
   "metadata": {},
   "outputs": [
    {
     "ename": "ModuleNotFoundError",
     "evalue": "No module named 'Bio'",
     "output_type": "error",
     "traceback": [
      "\u001b[1;31m---------------------------------------------------------------------------\u001b[0m",
      "\u001b[1;31mModuleNotFoundError\u001b[0m                       Traceback (most recent call last)",
      "Cell \u001b[1;32mIn[2], line 1\u001b[0m\n\u001b[1;32m----> 1\u001b[0m \u001b[38;5;28;01mfrom\u001b[39;00m \u001b[38;5;21;01mBio\u001b[39;00m \u001b[38;5;28;01mimport\u001b[39;00m SeqIO\n\u001b[0;32m      3\u001b[0m records \u001b[38;5;241m=\u001b[39m SeqIO\u001b[38;5;241m.\u001b[39mparse(\u001b[38;5;124m\"\u001b[39m\u001b[38;5;124mglist_seqs_tab.txt\u001b[39m\u001b[38;5;124m\"\u001b[39m, \u001b[38;5;124m\"\u001b[39m\u001b[38;5;124mtab\u001b[39m\u001b[38;5;124m\"\u001b[39m)\n\u001b[0;32m      4\u001b[0m count \u001b[38;5;241m=\u001b[39m SeqIO\u001b[38;5;241m.\u001b[39mwrite(records, \u001b[38;5;124m\"\u001b[39m\u001b[38;5;124mglist_seqs_tab.txt\u001b[39m\u001b[38;5;124m\"\u001b[39m, \u001b[38;5;124m\"\u001b[39m\u001b[38;5;124mfasta\u001b[39m\u001b[38;5;124m\"\u001b[39m)\n",
      "\u001b[1;31mModuleNotFoundError\u001b[0m: No module named 'Bio'"
     ]
    }
   ],
   "source": [
    "#takes txt file and splits lines by tabs to aqcuire correct info to place into fasta format\n",
    "#outputs as a new fasta file\n",
    "out_line = []\n",
    "temp_line = ''\n",
    "with open ('', 'r+') as in_f:\n",
    "    for line in in_f:\n",
    "            temp_line= line.strip()\n",
    "            temp_line1= temp_line.split('\\t')[0]\n",
    "            temp_line2= temp_line.split('\\t')[1]\n",
    "            temp_line= '>' +temp_line1+ '\\n' +temp_line2\n",
    "            out_line.append(temp_line)\n",
    "            \n",
    "with open('glist_seqs.fasta', 'w') as out_f:\n",
    "    out_f.write('\\n'.join(out_line))\n",
    "    "
   ]
  }
 ],
 "metadata": {
  "kernelspec": {
   "display_name": "Python 3 (ipykernel)",
   "language": "python",
   "name": "python3"
  },
  "language_info": {
   "codemirror_mode": {
    "name": "ipython",
    "version": 3
   },
   "file_extension": ".py",
   "mimetype": "text/x-python",
   "name": "python",
   "nbconvert_exporter": "python",
   "pygments_lexer": "ipython3",
   "version": "3.11.5"
  }
 },
 "nbformat": 4,
 "nbformat_minor": 5
}
